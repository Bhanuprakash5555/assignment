{
 "cells": [
  {
   "cell_type": "code",
   "execution_count": null,
   "id": "76e002cb-cee7-4dc8-8f09-a576e814112c",
   "metadata": {},
   "outputs": [],
   "source": [
    "'''1)Who developed Python Programming Language?'''\n",
    "\"\"\"2)C?\"\"\"\n",
    "\"\"\"3)Is Python case sensitive when dealing with identifiers?\"\"\"\n",
    "\"\"\"4)What is the correct extension of the Python file?\"\"\"\n",
    "\"\"\"5)Is Python code compiled or interpreted?\"\"\"\n",
    "\"\"\"6)Name a few blocks of code used to define in Python Language?\"\"\"\n",
    "\"\"\"7)State a character used to give single-line comments in Python?\"\"\"\n",
    "\"\"\"8)Mention functions which can help us to find the version of python \n",
    "that we are currently working on?\"\"\"\n",
    "\"\"\"9)Python supports the creation of anonymous functions at runtime,\n",
    "ussing a construct called -----------\"\"\"\n",
    "\"\"\"10)What does pip stand for python?\"\"\"\n",
    "\"\"\"11)Mention a few built-in functions in python?\"\"\"\n",
    "\"\"\"12)What is the maximum possible length of an identifier in Python?\"\"\"\n",
    "\"\"\"13)What are the benefits of using Python?\"\"\"\n",
    "\"\"\"14)How is memory managed in Python?\"\"\"\n",
    "\"\"\"15)How to install Python on windows and set path variables?\"\"\"\n",
    "\"\"\"16)Is indentation required in Python?\"\"\""
   ]
  },
  {
   "cell_type": "code",
   "execution_count": null,
   "id": "e12f01d4-f0ae-483a-9d78-0bce1e4d728a",
   "metadata": {},
   "outputs": [],
   "source": [
    "\"\"\"1)It was initially designed by Guido van Rossum in 1991 and developed by Python Software Foundation.\"\"\""
   ]
  },
  {
   "cell_type": "code",
   "execution_count": null,
   "id": "b4d96761-c7f2-49b5-b98c-2dc05ba391d8",
   "metadata": {},
   "outputs": [],
   "source": [
    "\"\"\"2)Object Oriented programming paradigms\n",
    "Procedure Oriented programming paradigms\n",
    "Functional programming paradigms\n"
   ]
  },
  {
   "cell_type": "code",
   "execution_count": null,
   "id": "b6a3f0be-6c99-4ca9-af9f-cba042db2114",
   "metadata": {},
   "outputs": [],
   "source": [
    "\"\"\"3)Yes\"\"\""
   ]
  },
  {
   "cell_type": "code",
   "execution_count": null,
   "id": "6e4ed3e5-5a6c-4cc7-9d4b-8fa76ab06346",
   "metadata": {},
   "outputs": [],
   "source": [
    "\"\"\"4).py or .ipynb  \"\"\""
   ]
  },
  {
   "cell_type": "code",
   "execution_count": null,
   "id": "6ac5f4a0-8686-4bed-a7b1-aa37dfc966ec",
   "metadata": {},
   "outputs": [],
   "source": [
    "\"\"\"5)It is first compiled and then interpreted.\"\"\""
   ]
  },
  {
   "cell_type": "code",
   "execution_count": null,
   "id": "0def7755-f727-428b-9d85-714aada4413c",
   "metadata": {},
   "outputs": [],
   "source": [
    "6)"
   ]
  },
  {
   "cell_type": "code",
   "execution_count": 1,
   "id": "30b36632-9fa7-4d87-a64f-ff98b18fef92",
   "metadata": {},
   "outputs": [
    {
     "name": "stdout",
     "output_type": "stream",
     "text": [
      "yes\n"
     ]
    }
   ],
   "source": [
    "a=\"bhanu\"\n",
    "if len(a) ==5:\n",
    "    print (\"yes\")\n",
    "else:\n",
    "        print('no')"
   ]
  },
  {
   "cell_type": "code",
   "execution_count": null,
   "id": "4d7f4288-f691-4fce-a41d-b8ed3ec3d794",
   "metadata": {},
   "outputs": [],
   "source": [
    "\"\"\"7)#\"\"\""
   ]
  },
  {
   "cell_type": "code",
   "execution_count": null,
   "id": "6fc1645b-c9e0-462e-930c-3c47939303e4",
   "metadata": {},
   "outputs": [],
   "source": [
    "\"\"\"8)sys.version\"\"\""
   ]
  },
  {
   "cell_type": "code",
   "execution_count": null,
   "id": "f467a7e2-38df-4fdc-bf03-49a1eb3ce2e4",
   "metadata": {},
   "outputs": [],
   "source": [
    "\"\"\"9)Generator.\"\"\""
   ]
  },
  {
   "cell_type": "code",
   "execution_count": null,
   "id": "5890c7d7-7998-4632-9b02-5551a7ef014c",
   "metadata": {},
   "outputs": [],
   "source": [
    "\"\"\"10)PIP stands for Preferred Installer Program.\"\"\""
   ]
  },
  {
   "cell_type": "code",
   "execution_count": null,
   "id": "0111885a-60df-4dd8-98eb-4c109e871ecf",
   "metadata": {},
   "outputs": [],
   "source": [
    "\"\"\"11)\".find()\",\".replace(\"\",\"\")\",\"len()\",\".strip(\" \")\".\"\"\""
   ]
  },
  {
   "cell_type": "code",
   "execution_count": null,
   "id": "86411876-a9dc-4f95-9314-20c72d352afa",
   "metadata": {},
   "outputs": [],
   "source": [
    "\"\"\"12)79 characters.\"\"\""
   ]
  },
  {
   "cell_type": "code",
   "execution_count": null,
   "id": "fa98b9e6-a6e0-4bf5-8ecb-de220abe5499",
   "metadata": {},
   "outputs": [],
   "source": [
    "\"\"\"13)Python is a high level language.It is dynamic in nature.\n",
    "Portable and iteractive.\n",
    "versatile and easy to learn.\n",
    "User friendly data structures.\n",
    "Extensive support libraries.\"\"\""
   ]
  },
  {
   "cell_type": "code",
   "execution_count": null,
   "id": "625fba04-7a35-48e2-8dd2-a03f178e033b",
   "metadata": {},
   "outputs": [],
   "source": [
    " \"\"\"14)In Python memory allocation and deallocation method is \n",
    "    automatic as the Python developers created a garbage\n",
    "    collector for Python so that the user \n",
    "    does not have to do manual garbage collection.\"\"\""
   ]
  },
  {
   "cell_type": "code",
   "execution_count": null,
   "id": "db99427e-89e5-4501-b6e5-b6a23965d201",
   "metadata": {},
   "outputs": [],
   "source": [
    "\"\"\"15)Download python of the required version from \n",
    "\"python.org\". Now install it ,install libraries\n",
    "install pip and other features and finish installation.\n",
    "Open python file and copy the location path from top.\n",
    "Now,we have to add the above-copied path as a variables\n",
    "so that windows can recognize.Search for \"Environmental variables\"\n",
    "There will be two categories namely \"user\" and \"system\", we have to\n",
    "add it in Users,click on New button in the User section.Now ,add\n",
    "a variable name and path which we copied previously and click OK."
   ]
  },
  {
   "cell_type": "code",
   "execution_count": null,
   "id": "ca702dea-4fd5-4a37-884c-42e9e744753f",
   "metadata": {},
   "outputs": [],
   "source": [
    "\"\"\"16)Yes,indentation required in Python.\"\"\""
   ]
  }
 ],
 "metadata": {
  "kernelspec": {
   "display_name": "Python 3 (ipykernel)",
   "language": "python",
   "name": "python3"
  },
  "language_info": {
   "codemirror_mode": {
    "name": "ipython",
    "version": 3
   },
   "file_extension": ".py",
   "mimetype": "text/x-python",
   "name": "python",
   "nbconvert_exporter": "python",
   "pygments_lexer": "ipython3",
   "version": "3.10.8"
  }
 },
 "nbformat": 4,
 "nbformat_minor": 5
}
